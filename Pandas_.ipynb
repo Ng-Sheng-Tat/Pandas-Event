{
  "nbformat": 4,
  "nbformat_minor": 0,
  "metadata": {
    "colab": {
      "name": "Pandas .ipynb",
      "provenance": [],
      "collapsed_sections": []
    },
    "kernelspec": {
      "name": "python3",
      "display_name": "Python 3"
    },
    "language_info": {
      "name": "python"
    }
  },
  "cells": [
    {
      "cell_type": "markdown",
      "source": [
        "- Python Event (Pandas) by Ibrahim\n",
        "\n",
        "- 19 March 2022\n",
        "\n",
        "**Introduction**\n",
        "- *pandas* as a library in python\n",
        "- analyze sales data in the past company\n",
        "- for bigger data analysis\n"
      ],
      "metadata": {
        "id": "Pxuvt9BavAIm"
      }
    },
    {
      "cell_type": "markdown",
      "source": [
        "$\\text{conda install}$"
      ],
      "metadata": {
        "id": "6ZMhi38vvWeE"
      }
    },
    {
      "cell_type": "markdown",
      "source": [
        "**Create the virtual environment**\n",
        "- conda version installed ``conda -V``\n",
        "- (base) is the default environment\n",
        "- create a virtual environment ``conda create -n virtualenvironmentname python=3.8``\n",
        "- click ``y`` to run some simple installation\n",
        "- anaconda allows python version running without fighthing\n",
        "- it allows package working \n",
        "- we are using python 3.8\n",
        "\n",
        "**Activate the environment**\n",
        "- ``conda activate virtualenvironmentname``\n",
        "\n",
        "**Finding the information of virtual environment**\n",
        "- ``conda infor --envs``\n",
        "- ``cls``"
      ],
      "metadata": {
        "id": "02AEDj3CvqRi"
      }
    },
    {
      "cell_type": "markdown",
      "source": [
        "**Jupyter Lab as an interactive IDE**\n",
        "- installing in virtual environment\n",
        "- ``conda install -c conda-forge jupyterlab``\n",
        "- ``y``\n",
        "\n",
        "**Installing pandas with python**\n",
        "- ``pip install pandas``\n",
        "- ``pip list``\n",
        "\n",
        "**Starting Jupyter lab**\n",
        "- ``cd path``\n",
        "- ``ls``\n",
        "- ``jupyter-lab`` (inside your virtual environment)\n",
        "- ``Ctrl + C`` to close\n",
        "- jupyter is running on the terminal\n",
        "- left side is the file directory\n",
        "- notebook with cells to run code, the output will be seen imidiately, cells can be run separately\n",
        "- ipynb : interactive python notebook\n"
      ],
      "metadata": {
        "id": "c0v7img6w8zk"
      }
    },
    {
      "cell_type": "markdown",
      "source": [
        "**Command in cells**\n",
        "- just write the variables name\n",
        "- shift enter to go to next cell\n",
        "- control enter to be cell locally to run\n"
      ],
      "metadata": {
        "id": "UJvNP6Nkyun8"
      }
    },
    {
      "cell_type": "markdown",
      "source": [
        "**When and Why**\n",
        "- dataset can fit into your ram\n",
        "- excel is too small to run the files\n",
        "- import data into workspace\n",
        "- ``import pandas as pd``\n",
        "- ``import numpy as np``\n",
        "- ``import matplotlib.pyplot as plt``\n"
      ],
      "metadata": {
        "id": "Jtn2nC1Gy-O0"
      }
    },
    {
      "cell_type": "markdown",
      "source": [
        "**Conventional Database**\n",
        "1. excel tables with rows and columns\n",
        "2. columns are features\n",
        "3. rows are groups\n",
        "4. dataframe is the tables\n",
        "5. basic building block of dataframe is a series, is an array of data (whole columns\n",
        "  - ``pd.Series([23, 41, 6, 5])``\n",
        "  - it is a special data type with not same as ordinary list, it comes with row / column index now, starting with 0, storing the datatypes\n",
        "  - datatype is efficient for certain things, default functionality in pandas\n",
        "  - ``pd.Series([23, 41.0, 6, 5])``: everything is float now\n",
        "  - ``pd.Series([23, \"41.0\", 6, 5])``: everything is object (a collection of different data class/objects) now\n",
        "\n",
        "\n",
        "**Convert data type**\n",
        "* ``pd.to_numeric(pd.Series([\"41.2\", 12]))``\n",
        "* ``pd.to_datetime(pd.Series)``\n",
        "\n",
        "**Pandas Data Frame** as a collection / combination of *data series* as the building block of data frame\n",
        "- ``pd.DataFrame(data)``: create table with those data\n",
        "  - pass in a dictionary\n",
        "  - ``data = {\n",
        "    \"person\":[\"Iz\", \"KH\", \"Avocado\", \"DK\"],\n",
        "    \"fav_icecream\":[\"straw\", \"water\", avacado\", \"dambal\"]\n",
        "  }``\n",
        "- ``pd.DataFrame()`` to create an empty data frame\n",
        "\n"
      ],
      "metadata": {
        "id": "1gVF1iPmzfoJ"
      }
    },
    {
      "cell_type": "markdown",
      "source": [
        "**Reading Data**\n",
        "- ``%%time``: for performance analysis\n",
        "- ``pd.read_csv(\"filename.csv\")\n",
        "- click ``tab`` for auto complete\n",
        "- datatype usually comes in columns-oriented storage (all A first) or row-oritented storate (A1, B1, A2, B2)"
      ],
      "metadata": {
        "id": "jK_JhrSN2a9L"
      }
    },
    {
      "cell_type": "code",
      "execution_count": 1,
      "metadata": {
        "id": "yDliVXMYu7eV"
      },
      "outputs": [],
      "source": [
        "import pandas as pd"
      ]
    },
    {
      "cell_type": "code",
      "source": [
        "height = pd.read_csv(\"height_country.csv\")\n",
        "internet = pd.read_csv(\"/content/internet broadband and mobile speeds by country.csv\")\n",
        "tiktok = pd.read_csv(\"tiktok_top_1000.csv\")"
      ],
      "metadata": {
        "id": "tte4ZdzY3RMG"
      },
      "execution_count": 2,
      "outputs": []
    },
    {
      "cell_type": "code",
      "source": [
        "%time\n",
        "# big_data = pd.read_parquet(\"2m-sales-Recors\")\n",
        "# error - running ``!pip install fastparquet`` : this is a console command not a python command"
      ],
      "metadata": {
        "colab": {
          "base_uri": "https://localhost:8080/"
        },
        "id": "Wc5H6jYE35U6",
        "outputId": "fb563519-6554-4c23-d89c-a5dd4f14cbec"
      },
      "execution_count": 8,
      "outputs": [
        {
          "output_type": "stream",
          "name": "stdout",
          "text": [
            "CPU times: user 3 µs, sys: 0 ns, total: 3 µs\n",
            "Wall time: 8.58 µs\n"
          ]
        }
      ]
    },
    {
      "cell_type": "markdown",
      "source": [
        "**Saving Into Excel Files**\n",
        "- ``!pip install openpyxl``\n",
        "- ``dataframe.to_excel(\"datafilename.xlsx\")``\n",
        "- for compression purpose, then you can read your excel file already\n",
        "- can read data from web things\n",
        "- https://eforexcel.com/wp/downloads-18-sample-csv-files-data-sets-for-testing-sales/\n",
        "\n",
        "**Web Data**\n",
        "- ``dictionary = pd.read_csv(\"https://raw.githubusercontent.com/dwyl/english-words/master/words.txt\",names=['word'],sep=\" \")``\n",
        "- online files\n",
        "\n",
        "**Preview and Viewing Data**\n",
        "- getting information about your dataset\n",
        "- getting the first five columns: ``dataframe.head()``\n",
        "- ``dataframe.tail(n)``\n",
        "- ``dataframe.info()``: overview of data\n",
        "- object is as string"
      ],
      "metadata": {
        "id": "73a4s3GT5LcZ"
      }
    },
    {
      "cell_type": "markdown",
      "source": [
        "**Session Two**\n",
        "\n",
        "**Taking Subsession of Data**\n",
        "- ``dataframe[\"column name\"]``\n",
        "\n",
        "**Selecting Multiple column**\n",
        "\n",
        "**Method 1**\n",
        "\n",
        "- ``dataframe[[\"column1\", \"column2\", \"column\"]]]``\n",
        "- multiple column default turn into a table\n",
        "\n",
        "**Method 2 : loc attribute**\n",
        "- ``dataframe.loc[:, \"column1\":\"column3\"]``\n",
        "- passing in the row and column \n",
        "- as a fileter to access subdata\n",
        "- ``:`` means everything inside the rows or list or columns\n",
        "\n",
        "**Method 3: \"iloc\" index loc attribute**\n",
        "* ``dataframe.iloc[:, [1,2,3]]``\n",
        "- does not include the last index that you pass in\n",
        "\n",
        "**Droping columns**\n",
        "- ``dataframe.drop(columns=[\"Order ID\"], axis=1).info()``\n",
        "- default is to preserve the dataframe that you have, it copy and do the functions, and return the output after the functions are executed\n",
        "- to edit the dataframe directly\n",
        "by ``inplace=True`` passing this argument inside, but this argument does not return output\n",
        "\n",
        "\n",
        "**Filtering based on criteria**\n",
        "\n"
      ],
      "metadata": {
        "id": "hiYKKmKK8K3i"
      }
    },
    {
      "cell_type": "code",
      "source": [
        "# height.head()\n",
        "a = [1,2,3,4,5]\n",
        "print(a[1])"
      ],
      "metadata": {
        "id": "TY5Vr9Dk4rMb"
      },
      "execution_count": null,
      "outputs": []
    },
    {
      "cell_type": "code",
      "source": [
        "# Select only the country name\n",
        "type(height[\"Country Name\"])\n",
        "height[\"Rank\"] # column name is case sensitive"
      ],
      "metadata": {
        "id": "P4N0W7tE8YKC"
      },
      "execution_count": null,
      "outputs": []
    },
    {
      "cell_type": "markdown",
      "source": [
        "**Exercise 1**\n",
        ": Make a DataFrame with only Country, Broadband Speed Rank and Broadband Speed using:\n",
        "1. drop\n",
        "2. select multiple columns\n",
        "3. loc"
      ],
      "metadata": {
        "id": "4JLaImZ7_klS"
      }
    },
    {
      "cell_type": "code",
      "source": [
        "internet.loc[:, \"Country\":\"Broadband Mbps\"]"
      ],
      "metadata": {
        "id": "HWb_eOtO8qsM"
      },
      "execution_count": null,
      "outputs": []
    },
    {
      "cell_type": "code",
      "source": [
        "# it has to be list inside a list\n",
        "print(internet.keys()) # to return all the column names\n",
        "internet[[\"Country\", \"Broadband Speed Rank\", \"Broadband Mbps\"]]"
      ],
      "metadata": {
        "id": "DrY_uhGA82eC"
      },
      "execution_count": null,
      "outputs": []
    },
    {
      "cell_type": "code",
      "source": [
        "internet.drop(columns=[\"Mobile Speed Rank\", \"Mobile Mbps\", \"As of\"])"
      ],
      "metadata": {
        "id": "_S8q4dM0AAfY"
      },
      "execution_count": null,
      "outputs": []
    },
    {
      "cell_type": "markdown",
      "source": [
        "**Imported Data**\n",
        "\n",
        "**Data Structure Understanding**\n",
        "\n",
        "**Filtering**\n",
        "\n",
        "**Cleaning Data**\n",
        "1. Remove duplicate\n",
        "2. clear NA\n",
        "  - by assigning value\n",
        "  - by remove the entire row\n",
        "  - converting to zero to ensure not interfere your calculations"
      ],
      "metadata": {
        "id": "2efjO3nTAYLw"
      }
    },
    {
      "cell_type": "code",
      "source": [
        "missing = pd.read_csv(\"missing.csv\")"
      ],
      "metadata": {
        "id": "6OHv1-neATux"
      },
      "execution_count": 19,
      "outputs": []
    },
    {
      "cell_type": "code",
      "source": [
        "missing.info()"
      ],
      "metadata": {
        "id": "P3bQADmdAmj8"
      },
      "execution_count": null,
      "outputs": []
    },
    {
      "cell_type": "code",
      "source": [
        "# or using dot if there is no space in your column name\n",
        "print(missing[\"Column3\"].isnull())\n",
        "missing[missing[\"Column3\"].isnull()] \n",
        "# return true if it is null, nan means not a number or invalue\n",
        "# pass in the condition to be met, and return the condition that satisfy the condition (true) statement that to be returned"
      ],
      "metadata": {
        "id": "91MLfm0lAoAg"
      },
      "execution_count": null,
      "outputs": []
    },
    {
      "cell_type": "code",
      "source": [
        "# pandas is using boolean operator\n",
        "missing[\n",
        "        (missing[\"Column3\"].isnull())\n",
        "        | (missing[\"Column4\"].isnull())\n",
        "        ] "
      ],
      "metadata": {
        "id": "_qLhp--vBR0X"
      },
      "execution_count": null,
      "outputs": []
    },
    {
      "cell_type": "code",
      "source": [
        "# filling the value\n",
        "# fill anywhere with -1\n",
        "missing.fillna(-1, inplace=True).info()"
      ],
      "metadata": {
        "colab": {
          "base_uri": "https://localhost:8080/"
        },
        "id": "fHczK2tUB-qo",
        "outputId": "37b5b41f-df89-469d-de9e-f3e5dacafa10"
      },
      "execution_count": 24,
      "outputs": [
        {
          "output_type": "stream",
          "name": "stdout",
          "text": [
            "<class 'pandas.core.frame.DataFrame'>\n",
            "RangeIndex: 80 entries, 0 to 79\n",
            "Data columns (total 10 columns):\n",
            " #   Column    Non-Null Count  Dtype  \n",
            "---  ------    --------------  -----  \n",
            " 0   Column1   80 non-null     float64\n",
            " 1   Column2   80 non-null     float64\n",
            " 2   Column3   80 non-null     float64\n",
            " 3   Column4   80 non-null     float64\n",
            " 4   Column5   80 non-null     float64\n",
            " 5   Column6   80 non-null     float64\n",
            " 6   Column7   80 non-null     float64\n",
            " 7   Column8   80 non-null     float64\n",
            " 8   Column9   80 non-null     float64\n",
            " 9   Column10  80 non-null     float64\n",
            "dtypes: float64(10)\n",
            "memory usage: 6.4 KB\n"
          ]
        }
      ]
    },
    {
      "cell_type": "code",
      "source": [
        "# dropping the values\n",
        "dropped_missing = missing.dropna()"
      ],
      "metadata": {
        "id": "EtCbdSvFCFS_"
      },
      "execution_count": 25,
      "outputs": []
    },
    {
      "cell_type": "code",
      "source": [
        "dropped_missing"
      ],
      "metadata": {
        "id": "MeugEblKCYvP"
      },
      "execution_count": null,
      "outputs": []
    },
    {
      "cell_type": "code",
      "source": [
        "# to remove the duplicate data\n",
        "dropped_dupplicate = missing.drop_duplicates(inplace=True)"
      ],
      "metadata": {
        "id": "d_xJRjZFCZxf"
      },
      "execution_count": null,
      "outputs": []
    },
    {
      "cell_type": "markdown",
      "source": [
        "**Exercise 2**"
      ],
      "metadata": {
        "id": "QJaBjAfaCpRJ"
      }
    },
    {
      "cell_type": "code",
      "source": [
        "tiktok.info()"
      ],
      "metadata": {
        "id": "YoI_SutSCrAf"
      },
      "execution_count": null,
      "outputs": []
    },
    {
      "cell_type": "code",
      "source": [
        "tiktok[\n",
        "       tiktok.Title.isnull()\n",
        "]"
      ],
      "metadata": {
        "id": "9zKdHKl2CtZ_"
      },
      "execution_count": null,
      "outputs": []
    },
    {
      "cell_type": "code",
      "source": [
        "tiktok.dropna(inplace=True)\n",
        "tiktok.info()"
      ],
      "metadata": {
        "id": "v6k8IwD5C02w"
      },
      "execution_count": null,
      "outputs": []
    },
    {
      "cell_type": "markdown",
      "source": [
        "**Basics Statistical Analysis**\n",
        "- access column by column\n",
        "- ``dataframe[\"columnname\"].statisticalfunction()``\n",
        "- ``.min()``\n",
        "- ``.max()``\n",
        "- ``.avg()``\n",
        "- ``.std()``\n",
        "- ``dataframe.keys()``\n",
        "- ``dataframe.loc[:, [\"column1\", \"column2\"]].max()``: returning multiple column name\n",
        "- ``.var()``\n",
        "- ``.describe()``: return all statistically\n",
        "- **passing in custom function**\n",
        "- ```import numpy as np\n",
        "  def f(x):\n",
        "    return np.sqrt(x)\n",
        "  ```\n",
        "- ``dataframe.loc[:, [\"column1\", \"column2\"]].apply(f)``\n",
        "- used when you o things like root-mean-square, there is no custom function in it\n",
        "\n",
        "**Statistical Correlation**\n",
        "- ``dataframe.corr(method=\"spearman\")``\n",
        "- \"help\" search for documentation"
      ],
      "metadata": {
        "id": "ne142RrODJR9"
      }
    },
    {
      "cell_type": "markdown",
      "source": [
        "**Exercise 3**"
      ],
      "metadata": {
        "id": "GvxDsU6SFPWD"
      }
    },
    {
      "cell_type": "code",
      "source": [
        "tiktok.keys()"
      ],
      "metadata": {
        "colab": {
          "base_uri": "https://localhost:8080/"
        },
        "id": "Doh2CFkjC7Df",
        "outputId": "761f70be-9d68-4415-a241-e3a9bd268b92"
      },
      "execution_count": 30,
      "outputs": [
        {
          "output_type": "execute_result",
          "data": {
            "text/plain": [
              "Index(['Country', 'Rank', 'Account', 'Title', 'Link', 'Subscribers count',\n",
              "       'Views avg.', 'Likes avg.', 'Comments avg.', 'Shares avg.', 'Scraped'],\n",
              "      dtype='object')"
            ]
          },
          "metadata": {},
          "execution_count": 30
        }
      ]
    },
    {
      "cell_type": "code",
      "source": [
        "tiktok[\"Views avg.\"].sum()"
      ],
      "metadata": {
        "colab": {
          "base_uri": "https://localhost:8080/"
        },
        "id": "QDWA1abSFTWI",
        "outputId": "4d5ecce3-a8aa-4817-d93d-b82968b6ae67"
      },
      "execution_count": 31,
      "outputs": [
        {
          "output_type": "execute_result",
          "data": {
            "text/plain": [
              "3696966300.0"
            ]
          },
          "metadata": {},
          "execution_count": 31
        }
      ]
    },
    {
      "cell_type": "code",
      "source": [
        "height.sort_values(\"Rank\", inplace=True, ignore_index=True, ascending=True) # default is asdenging\n",
        "# do not want to random shuffling"
      ],
      "metadata": {
        "id": "vluQUs45FZNQ"
      },
      "execution_count": 32,
      "outputs": []
    },
    {
      "cell_type": "code",
      "source": [
        "height.loc[50:101, [\"Male Height in Cm\", \"Female Height in Cm\"]].avg()"
      ],
      "metadata": {
        "id": "ci6kKBPnF3o_"
      },
      "execution_count": null,
      "outputs": []
    },
    {
      "cell_type": "markdown",
      "source": [
        "**Adding New Column**\n",
        "- ``dataframe[\"New Column Name\"] = operation like dataframe[\"columnnameold\"] * 12``\n",
        "\n",
        "**Cascade and shift**\n",
        "- ``shift(n)``\n",
        "\n"
      ],
      "metadata": {
        "id": "hUThU3QqGscC"
      }
    },
    {
      "cell_type": "markdown",
      "source": [
        "**Exercise 4**"
      ],
      "metadata": {
        "id": "um2ucgsnHTuJ"
      }
    },
    {
      "cell_type": "code",
      "source": [
        "# must ignore index for shifting\n",
        "tiktok.sort_values(\"Subscribers count\", inplace=True, ignore_index=True, ascending = True)\n",
        "tiktok.head(10)"
      ],
      "metadata": {
        "id": "4DasM1eGF4Vv"
      },
      "execution_count": null,
      "outputs": []
    },
    {
      "cell_type": "code",
      "source": [
        "tiktok[\"delta_sub\"] = tiktok['Subscribers count'].shift(1) - tiktok['Subscribers count']"
      ],
      "metadata": {
        "id": "49m25ltfHtVK"
      },
      "execution_count": 39,
      "outputs": []
    },
    {
      "cell_type": "code",
      "source": [
        "tiktok.head()"
      ],
      "metadata": {
        "colab": {
          "base_uri": "https://localhost:8080/",
          "height": 340
        },
        "id": "10Rb_lHoILiu",
        "outputId": "446cb0f6-01e4-4ad8-83a3-f0d5df5030c2"
      },
      "execution_count": 40,
      "outputs": [
        {
          "output_type": "execute_result",
          "data": {
            "text/plain": [
              "  Country  Rank         Account          Title  \\\n",
              "0     All   845        bipbrome         Lena 🎏   \n",
              "1     All   439  dylanswagmoney          Dylan   \n",
              "2     All   365    _dirtyelbows         Audrey   \n",
              "3     All   161    aliprasetya6           alii   \n",
              "4     All   684   alitaalvarez5  Alita Alvarez   \n",
              "\n",
              "                                     Link  Subscribers count  Views avg.  \\\n",
              "0        https://www.tiktok.com/@bipbrome             4300.0    750700.0   \n",
              "1  https://www.tiktok.com/@dylanswagmoney             5000.0    701600.0   \n",
              "2    https://www.tiktok.com/@_dirtyelbows             5600.0   2700000.0   \n",
              "3    https://www.tiktok.com/@aliprasetya6             6400.0   5100000.0   \n",
              "4   https://www.tiktok.com/@alitaalvarez5             7900.0   1200000.0   \n",
              "\n",
              "   Likes avg.  Comments avg.  Shares avg.                     Scraped  \\\n",
              "0    213400.0         4300.0       5900.0  2022-02-07 16:54:35.641971   \n",
              "1    391600.0         8100.0      10000.0  2022-02-07 16:54:35.641971   \n",
              "2    330700.0         4000.0       3800.0  2022-02-07 16:54:35.641971   \n",
              "3    469900.0         4000.0       7400.0  2022-02-07 16:54:35.641971   \n",
              "4     94100.0         2300.0      18200.0  2022-02-07 16:54:35.641971   \n",
              "\n",
              "   delta_sub  \n",
              "0        NaN  \n",
              "1     -700.0  \n",
              "2     -600.0  \n",
              "3     -800.0  \n",
              "4    -1500.0  "
            ],
            "text/html": [
              "\n",
              "  <div id=\"df-fdd70345-b824-4c07-ac4b-d5408d272058\">\n",
              "    <div class=\"colab-df-container\">\n",
              "      <div>\n",
              "<style scoped>\n",
              "    .dataframe tbody tr th:only-of-type {\n",
              "        vertical-align: middle;\n",
              "    }\n",
              "\n",
              "    .dataframe tbody tr th {\n",
              "        vertical-align: top;\n",
              "    }\n",
              "\n",
              "    .dataframe thead th {\n",
              "        text-align: right;\n",
              "    }\n",
              "</style>\n",
              "<table border=\"1\" class=\"dataframe\">\n",
              "  <thead>\n",
              "    <tr style=\"text-align: right;\">\n",
              "      <th></th>\n",
              "      <th>Country</th>\n",
              "      <th>Rank</th>\n",
              "      <th>Account</th>\n",
              "      <th>Title</th>\n",
              "      <th>Link</th>\n",
              "      <th>Subscribers count</th>\n",
              "      <th>Views avg.</th>\n",
              "      <th>Likes avg.</th>\n",
              "      <th>Comments avg.</th>\n",
              "      <th>Shares avg.</th>\n",
              "      <th>Scraped</th>\n",
              "      <th>delta_sub</th>\n",
              "    </tr>\n",
              "  </thead>\n",
              "  <tbody>\n",
              "    <tr>\n",
              "      <th>0</th>\n",
              "      <td>All</td>\n",
              "      <td>845</td>\n",
              "      <td>bipbrome</td>\n",
              "      <td>Lena 🎏</td>\n",
              "      <td>https://www.tiktok.com/@bipbrome</td>\n",
              "      <td>4300.0</td>\n",
              "      <td>750700.0</td>\n",
              "      <td>213400.0</td>\n",
              "      <td>4300.0</td>\n",
              "      <td>5900.0</td>\n",
              "      <td>2022-02-07 16:54:35.641971</td>\n",
              "      <td>NaN</td>\n",
              "    </tr>\n",
              "    <tr>\n",
              "      <th>1</th>\n",
              "      <td>All</td>\n",
              "      <td>439</td>\n",
              "      <td>dylanswagmoney</td>\n",
              "      <td>Dylan</td>\n",
              "      <td>https://www.tiktok.com/@dylanswagmoney</td>\n",
              "      <td>5000.0</td>\n",
              "      <td>701600.0</td>\n",
              "      <td>391600.0</td>\n",
              "      <td>8100.0</td>\n",
              "      <td>10000.0</td>\n",
              "      <td>2022-02-07 16:54:35.641971</td>\n",
              "      <td>-700.0</td>\n",
              "    </tr>\n",
              "    <tr>\n",
              "      <th>2</th>\n",
              "      <td>All</td>\n",
              "      <td>365</td>\n",
              "      <td>_dirtyelbows</td>\n",
              "      <td>Audrey</td>\n",
              "      <td>https://www.tiktok.com/@_dirtyelbows</td>\n",
              "      <td>5600.0</td>\n",
              "      <td>2700000.0</td>\n",
              "      <td>330700.0</td>\n",
              "      <td>4000.0</td>\n",
              "      <td>3800.0</td>\n",
              "      <td>2022-02-07 16:54:35.641971</td>\n",
              "      <td>-600.0</td>\n",
              "    </tr>\n",
              "    <tr>\n",
              "      <th>3</th>\n",
              "      <td>All</td>\n",
              "      <td>161</td>\n",
              "      <td>aliprasetya6</td>\n",
              "      <td>alii</td>\n",
              "      <td>https://www.tiktok.com/@aliprasetya6</td>\n",
              "      <td>6400.0</td>\n",
              "      <td>5100000.0</td>\n",
              "      <td>469900.0</td>\n",
              "      <td>4000.0</td>\n",
              "      <td>7400.0</td>\n",
              "      <td>2022-02-07 16:54:35.641971</td>\n",
              "      <td>-800.0</td>\n",
              "    </tr>\n",
              "    <tr>\n",
              "      <th>4</th>\n",
              "      <td>All</td>\n",
              "      <td>684</td>\n",
              "      <td>alitaalvarez5</td>\n",
              "      <td>Alita Alvarez</td>\n",
              "      <td>https://www.tiktok.com/@alitaalvarez5</td>\n",
              "      <td>7900.0</td>\n",
              "      <td>1200000.0</td>\n",
              "      <td>94100.0</td>\n",
              "      <td>2300.0</td>\n",
              "      <td>18200.0</td>\n",
              "      <td>2022-02-07 16:54:35.641971</td>\n",
              "      <td>-1500.0</td>\n",
              "    </tr>\n",
              "  </tbody>\n",
              "</table>\n",
              "</div>\n",
              "      <button class=\"colab-df-convert\" onclick=\"convertToInteractive('df-fdd70345-b824-4c07-ac4b-d5408d272058')\"\n",
              "              title=\"Convert this dataframe to an interactive table.\"\n",
              "              style=\"display:none;\">\n",
              "        \n",
              "  <svg xmlns=\"http://www.w3.org/2000/svg\" height=\"24px\"viewBox=\"0 0 24 24\"\n",
              "       width=\"24px\">\n",
              "    <path d=\"M0 0h24v24H0V0z\" fill=\"none\"/>\n",
              "    <path d=\"M18.56 5.44l.94 2.06.94-2.06 2.06-.94-2.06-.94-.94-2.06-.94 2.06-2.06.94zm-11 1L8.5 8.5l.94-2.06 2.06-.94-2.06-.94L8.5 2.5l-.94 2.06-2.06.94zm10 10l.94 2.06.94-2.06 2.06-.94-2.06-.94-.94-2.06-.94 2.06-2.06.94z\"/><path d=\"M17.41 7.96l-1.37-1.37c-.4-.4-.92-.59-1.43-.59-.52 0-1.04.2-1.43.59L10.3 9.45l-7.72 7.72c-.78.78-.78 2.05 0 2.83L4 21.41c.39.39.9.59 1.41.59.51 0 1.02-.2 1.41-.59l7.78-7.78 2.81-2.81c.8-.78.8-2.07 0-2.86zM5.41 20L4 18.59l7.72-7.72 1.47 1.35L5.41 20z\"/>\n",
              "  </svg>\n",
              "      </button>\n",
              "      \n",
              "  <style>\n",
              "    .colab-df-container {\n",
              "      display:flex;\n",
              "      flex-wrap:wrap;\n",
              "      gap: 12px;\n",
              "    }\n",
              "\n",
              "    .colab-df-convert {\n",
              "      background-color: #E8F0FE;\n",
              "      border: none;\n",
              "      border-radius: 50%;\n",
              "      cursor: pointer;\n",
              "      display: none;\n",
              "      fill: #1967D2;\n",
              "      height: 32px;\n",
              "      padding: 0 0 0 0;\n",
              "      width: 32px;\n",
              "    }\n",
              "\n",
              "    .colab-df-convert:hover {\n",
              "      background-color: #E2EBFA;\n",
              "      box-shadow: 0px 1px 2px rgba(60, 64, 67, 0.3), 0px 1px 3px 1px rgba(60, 64, 67, 0.15);\n",
              "      fill: #174EA6;\n",
              "    }\n",
              "\n",
              "    [theme=dark] .colab-df-convert {\n",
              "      background-color: #3B4455;\n",
              "      fill: #D2E3FC;\n",
              "    }\n",
              "\n",
              "    [theme=dark] .colab-df-convert:hover {\n",
              "      background-color: #434B5C;\n",
              "      box-shadow: 0px 1px 3px 1px rgba(0, 0, 0, 0.15);\n",
              "      filter: drop-shadow(0px 1px 2px rgba(0, 0, 0, 0.3));\n",
              "      fill: #FFFFFF;\n",
              "    }\n",
              "  </style>\n",
              "\n",
              "      <script>\n",
              "        const buttonEl =\n",
              "          document.querySelector('#df-fdd70345-b824-4c07-ac4b-d5408d272058 button.colab-df-convert');\n",
              "        buttonEl.style.display =\n",
              "          google.colab.kernel.accessAllowed ? 'block' : 'none';\n",
              "\n",
              "        async function convertToInteractive(key) {\n",
              "          const element = document.querySelector('#df-fdd70345-b824-4c07-ac4b-d5408d272058');\n",
              "          const dataTable =\n",
              "            await google.colab.kernel.invokeFunction('convertToInteractive',\n",
              "                                                     [key], {});\n",
              "          if (!dataTable) return;\n",
              "\n",
              "          const docLinkHtml = 'Like what you see? Visit the ' +\n",
              "            '<a target=\"_blank\" href=https://colab.research.google.com/notebooks/data_table.ipynb>data table notebook</a>'\n",
              "            + ' to learn more about interactive tables.';\n",
              "          element.innerHTML = '';\n",
              "          dataTable['output_type'] = 'display_data';\n",
              "          await google.colab.output.renderOutput(dataTable, element);\n",
              "          const docLink = document.createElement('div');\n",
              "          docLink.innerHTML = docLinkHtml;\n",
              "          element.appendChild(docLink);\n",
              "        }\n",
              "      </script>\n",
              "    </div>\n",
              "  </div>\n",
              "  "
            ]
          },
          "metadata": {},
          "execution_count": 40
        }
      ]
    },
    {
      "cell_type": "markdown",
      "source": [
        "**Two Dataframe to join together, concatenating but not *merging***\n",
        "1. Column Join \n",
        "2. Row Join"
      ],
      "metadata": {
        "id": "baAsv_KLJ8fk"
      }
    },
    {
      "cell_type": "markdown",
      "source": [
        "**Exercise 5**"
      ],
      "metadata": {
        "id": "xnpvoRGBKQrv"
      }
    },
    {
      "cell_type": "code",
      "source": [
        "th1 = pd.read_csv(\"temp_hum_1.csv\", parse_dates=[\"created_at\"])\n",
        "th1.info()\n",
        "# format conversion for processing\n",
        "th1.head()\n",
        "th1.created_at = pd.to_datetime(th1.created_at, utc=True)\n",
        "th1.drop(columns=\"Unnamed: 0\", axis=1, inplace=True)\n",
        "th1.rename(\n",
        "    columns = {\n",
        "        \"field1\":\"T\", \n",
        "        \"field2\":\"RH\"\n",
        "    }, inplace = True\n",
        ")\n",
        "th1.dropna(inplace=True)\n",
        "th1.info()"
      ],
      "metadata": {
        "id": "umVl2rhrINDG"
      },
      "execution_count": 46,
      "outputs": []
    },
    {
      "cell_type": "code",
      "source": [
        "th2 = pd.read_csv(\"temp_hum_2.csv\")\n",
        "th2.created_at = pd.to_datetime(th2.created_at, utc=True)\n",
        "th2.drop(columns=\"Unnamed: 0\", axis=1, inplace=True)\n",
        "th2.rename(\n",
        "    columns = {\n",
        "        \"field1\":\"T\", \n",
        "        \"field2\":\"RH\"\n",
        "    }, inplace = True\n",
        ")\n",
        "th2.dropna(inplace=True)"
      ],
      "metadata": {
        "id": "LDdXVqKHL2LP"
      },
      "execution_count": 57,
      "outputs": []
    },
    {
      "cell_type": "code",
      "source": [
        "# merge is not the same as concatenation\n",
        "# default will concatenate the same column name\n",
        "th = pd.concat([th1, th2], axis=0, ignore_index=False)"
      ],
      "metadata": {
        "id": "MIN_mIjVMHVO"
      },
      "execution_count": 59,
      "outputs": []
    },
    {
      "cell_type": "code",
      "source": [
        "th.loc[:, \"T\":\"RH\"].describe()"
      ],
      "metadata": {
        "id": "1FYbOFZBMb_5"
      },
      "execution_count": null,
      "outputs": []
    },
    {
      "cell_type": "code",
      "source": [
        "th.T"
      ],
      "metadata": {
        "id": "Yj0Ek6Q8NjIv"
      },
      "execution_count": null,
      "outputs": []
    },
    {
      "cell_type": "code",
      "source": [
        "mn = th.T.mean()\n",
        "print(mn)"
      ],
      "metadata": {
        "colab": {
          "base_uri": "https://localhost:8080/"
        },
        "id": "I2M23opCNNpS",
        "outputId": "438b1894-cd56-454a-eb68-eae12be87fb2"
      },
      "execution_count": 65,
      "outputs": [
        {
          "output_type": "stream",
          "name": "stdout",
          "text": [
            "Series([], dtype: float64)\n"
          ]
        },
        {
          "output_type": "stream",
          "name": "stderr",
          "text": [
            "/usr/local/lib/python3.7/dist-packages/ipykernel_launcher.py:1: FutureWarning: Dropping of nuisance columns in DataFrame reductions (with 'numeric_only=None') is deprecated; in a future version this will raise TypeError.  Select only valid columns before calling the reduction.\n",
            "  \"\"\"Entry point for launching an IPython kernel.\n"
          ]
        }
      ]
    },
    {
      "cell_type": "code",
      "source": [
        "th[\"delta_average_T\"] = th[\"T\"] - th[\"T\"].mean()\n",
        "th[\"delta_average_RH\"] = th[\"RH\"].mean() - th[\"RH\"]\n",
        "# to see if it above and below average"
      ],
      "metadata": {
        "id": "XxICDlTPMfTF"
      },
      "execution_count": 74,
      "outputs": []
    },
    {
      "cell_type": "code",
      "source": [
        "th.corr()"
      ],
      "metadata": {
        "id": "sO5niOgtNdC1"
      },
      "execution_count": null,
      "outputs": []
    },
    {
      "cell_type": "markdown",
      "source": [
        "**Merging Data Frame (Excel)**\n",
        "1. Pivot Table\n",
        "2. VLookup (join in SQL)"
      ],
      "metadata": {
        "id": "wB7ciKXEOUvB"
      }
    },
    {
      "cell_type": "code",
      "source": [
        "student = pd.read_csv(\"student_details.csv\")"
      ],
      "metadata": {
        "id": "JhF5CwPLOM11"
      },
      "execution_count": 76,
      "outputs": []
    },
    {
      "cell_type": "code",
      "source": [
        "orders = pd.read_csv(\"book_orders.csv\")"
      ],
      "metadata": {
        "id": "EubjexixOlAG"
      },
      "execution_count": 77,
      "outputs": []
    },
    {
      "cell_type": "code",
      "source": [
        "student.join(orders.set_index('ID'), on=\"ID\")"
      ],
      "metadata": {
        "id": "UWVyFR4HOpOu"
      },
      "execution_count": null,
      "outputs": []
    },
    {
      "cell_type": "code",
      "source": [
        "student.merge(orders, on=[\"ID\"], how=\"inner\")\n",
        "# intersection of A and B\n",
        "# how include inner, right, left"
      ],
      "metadata": {
        "id": "gQrwcm6WPBNe"
      },
      "execution_count": null,
      "outputs": []
    },
    {
      "cell_type": "markdown",
      "source": [
        "**Queries**"
      ],
      "metadata": {
        "id": "14PIo3sMQVK3"
      }
    },
    {
      "cell_type": "code",
      "source": [
        "height[\n",
        "       height[\"Country Name\"] == \"Malaysia\"\n",
        "       & (height[\"Male Height in Cm\"] <=  120)\n",
        "]\n",
        "# return everything satisfy this condition"
      ],
      "metadata": {
        "id": "PVRpJAUXP5Xf"
      },
      "execution_count": null,
      "outputs": []
    },
    {
      "cell_type": "code",
      "source": [
        "height.keys()"
      ],
      "metadata": {
        "colab": {
          "base_uri": "https://localhost:8080/"
        },
        "id": "lxXiGWsoQfLT",
        "outputId": "2df35420-4e70-442f-e065-ae0cac854768"
      },
      "execution_count": 83,
      "outputs": [
        {
          "output_type": "execute_result",
          "data": {
            "text/plain": [
              "Index(['Rank', 'Country Name', 'Male Height in Cm', 'Female Height in Cm',\n",
              "       'Male Height in Ft', 'Female Height in Ft'],\n",
              "      dtype='object')"
            ]
          },
          "metadata": {},
          "execution_count": 83
        }
      ]
    },
    {
      "cell_type": "code",
      "source": [
        "# uses SQL syntax, does not need to write the syntax\n",
        "missing.query(\"Column1 >50 and Column2 <50 and Column3>90\")"
      ],
      "metadata": {
        "id": "y6NjclFyQgSt"
      },
      "execution_count": null,
      "outputs": []
    },
    {
      "cell_type": "code",
      "source": [
        "student.query('Name.str.contains(\"n\")')"
      ],
      "metadata": {
        "id": "ie7tfojLRdtx"
      },
      "execution_count": null,
      "outputs": []
    },
    {
      "cell_type": "code",
      "source": [
        "student.query('Name.str.contains(\"^L[A-z]{3}$\")')\n",
        "# regular expression being tested in different software\n",
        "# to look for a certain patterns"
      ],
      "metadata": {
        "id": "m26c0Y3_Rga5"
      },
      "execution_count": null,
      "outputs": []
    },
    {
      "cell_type": "markdown",
      "source": [
        "**Exercise 6**"
      ],
      "metadata": {
        "id": "Bbv-jggYS2kk"
      }
    },
    {
      "cell_type": "code",
      "source": [
        "dictionary.query(\"word.str.contains('^k') and word.str.contains() and\")"
      ],
      "metadata": {
        "id": "vDbSegm-Swci"
      },
      "execution_count": null,
      "outputs": []
    },
    {
      "cell_type": "markdown",
      "source": [
        "**Plotting**\n",
        "- last step in the data\n",
        "- ``!pip install matplotlib``"
      ],
      "metadata": {
        "id": "YhDxb1ODTcw1"
      }
    },
    {
      "cell_type": "code",
      "source": [
        "import matplotlib.pyplot as plt"
      ],
      "metadata": {
        "id": "BJQQlrg7TuYr"
      },
      "execution_count": 88,
      "outputs": []
    },
    {
      "cell_type": "code",
      "source": [
        "th.plot(x=\"created_at\", y=[\"T\", \"RH\"], kind=\"scatter\")"
      ],
      "metadata": {
        "id": "PP_6zXF0TjIc"
      },
      "execution_count": null,
      "outputs": []
    },
    {
      "cell_type": "code",
      "source": [
        "tiktok.keys()"
      ],
      "metadata": {
        "colab": {
          "base_uri": "https://localhost:8080/"
        },
        "id": "gGT477sbTzfs",
        "outputId": "0bbd2e9c-f4d5-45a3-cdfd-25f2eb05b29c"
      },
      "execution_count": 94,
      "outputs": [
        {
          "output_type": "execute_result",
          "data": {
            "text/plain": [
              "Index(['Country', 'Rank', 'Account', 'Title', 'Link', 'Subscribers count',\n",
              "       'Views avg.', 'Likes avg.', 'Comments avg.', 'Shares avg.', 'Scraped',\n",
              "       'delta_sub'],\n",
              "      dtype='object')"
            ]
          },
          "metadata": {},
          "execution_count": 94
        }
      ]
    },
    {
      "cell_type": "code",
      "source": [
        "tiktok.head(10).plot(x=\"Account\", y=[\"Likes avg\", \"Comments avg.\"])"
      ],
      "metadata": {
        "id": "7wXQhAB2UaUl"
      },
      "execution_count": null,
      "outputs": []
    },
    {
      "cell_type": "markdown",
      "source": [
        "**Pivot Table in pandas**\n",
        "- ``dataframe.groupby([\"columnname1\", \"columnname2\"], as_index=False).mean()``\n",
        "- can export to excel"
      ],
      "metadata": {
        "id": "hoAr4-rEUpYI"
      }
    },
    {
      "cell_type": "markdown",
      "source": [
        "- Reading dataset with large dataset than your computer memory\n",
        "- ``import polars as pl``\n",
        "- alternative to pandas but similar, able to handle large data set\n",
        "- ``pl.read_csv(\"filename.csv\")``\n",
        "- integrate well with mathematics and machine learning pipeline (pandas)\n",
        "- transfer pandas into polars\n",
        "- integrate into \"PySpark\"\n",
        "\n",
        "**Excel** does not have good external library, like double integral\n",
        "\n",
        "**Matlab** can do the same thing, very hard to commercialize matlab, it has similar functions and capabilities\n",
        "\n",
        "**Pandas** is more efficient and faster and help you with the analysis\n",
        "\n",
        "**Pandas** need to run a function to fetch and run the code real time\n",
        "\n",
        "**Regression** need to be doing in **Scipy** (scientific skills) like numpy and regression, pandas is just read, and pass the value into other libraries for plotting"
      ],
      "metadata": {
        "id": "soT9FyLsVhPj"
      }
    },
    {
      "cell_type": "code",
      "source": [
        ""
      ],
      "metadata": {
        "id": "fOiAB_-QUtQr"
      },
      "execution_count": null,
      "outputs": []
    }
  ]
}